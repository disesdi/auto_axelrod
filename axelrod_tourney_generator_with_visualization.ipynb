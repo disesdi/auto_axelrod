{
 "cells": [
  {
   "cell_type": "code",
   "execution_count": 4,
   "metadata": {
    "colab": {
     "base_uri": "https://localhost:8080/"
    },
    "id": "vDUwerlDI5AS",
    "outputId": "3d5d1b6b-dcf0-4e51-f9ab-4df67311f5f8"
   },
   "outputs": [
    {
     "name": "stdout",
     "output_type": "stream",
     "text": [
      "Looking in indexes: https://pypi.org/simple, https://us-python.pkg.dev/colab-wheels/public/simple/\n",
      "Collecting nashpy\n",
      "  Downloading nashpy-0.0.35-py3-none-any.whl (25 kB)\n",
      "Requirement already satisfied: numpy>=1.21.0 in /usr/local/lib/python3.8/dist-packages (from nashpy) (1.21.6)\n",
      "Requirement already satisfied: scipy>=0.19.0 in /usr/local/lib/python3.8/dist-packages (from nashpy) (1.7.3)\n",
      "Installing collected packages: nashpy\n",
      "Successfully installed nashpy-0.0.35\n",
      "Looking in indexes: https://pypi.org/simple, https://us-python.pkg.dev/colab-wheels/public/simple/\n",
      "Collecting axelrod\n",
      "  Downloading Axelrod-4.12.0-py2.py3-none-any.whl (191 kB)\n",
      "\u001b[2K     \u001b[90m━━━━━━━━━━━━━━━━━━━━━━━━━━━━━━━━━━━━━━\u001b[0m \u001b[32m192.0/192.0 KB\u001b[0m \u001b[31m16.0 MB/s\u001b[0m eta \u001b[36m0:00:00\u001b[0m\n",
      "\u001b[?25hRequirement already satisfied: pyyaml>=5.1 in /usr/local/lib/python3.8/dist-packages (from axelrod) (6.0)\n",
      "Requirement already satisfied: pandas>=1.0.0 in /usr/local/lib/python3.8/dist-packages (from axelrod) (1.3.5)\n",
      "Requirement already satisfied: scipy>=1.3.3 in /usr/local/lib/python3.8/dist-packages (from axelrod) (1.7.3)\n",
      "Requirement already satisfied: cloudpickle>=0.2.2 in /usr/local/lib/python3.8/dist-packages (from axelrod) (1.5.0)\n",
      "Collecting docutils<=0.17\n",
      "  Downloading docutils-0.17-py2.py3-none-any.whl (575 kB)\n",
      "\u001b[2K     \u001b[90m━━━━━━━━━━━━━━━━━━━━━━━━━━━━━━━━━━━━━━\u001b[0m \u001b[32m575.1/575.1 KB\u001b[0m \u001b[31m44.2 MB/s\u001b[0m eta \u001b[36m0:00:00\u001b[0m\n",
      "\u001b[?25hRequirement already satisfied: toolz>=0.8.2 in /usr/local/lib/python3.8/dist-packages (from axelrod) (0.12.0)\n",
      "Collecting prompt-toolkit>=3.0\n",
      "  Downloading prompt_toolkit-3.0.36-py3-none-any.whl (386 kB)\n",
      "\u001b[2K     \u001b[90m━━━━━━━━━━━━━━━━━━━━━━━━━━━━━━━━━━━━━━\u001b[0m \u001b[32m386.4/386.4 KB\u001b[0m \u001b[31m30.9 MB/s\u001b[0m eta \u001b[36m0:00:00\u001b[0m\n",
      "\u001b[?25hRequirement already satisfied: matplotlib>=3.0.3 in /usr/local/lib/python3.8/dist-packages (from axelrod) (3.2.2)\n",
      "Requirement already satisfied: numpy>=1.17.4 in /usr/local/lib/python3.8/dist-packages (from axelrod) (1.21.6)\n",
      "Requirement already satisfied: dask>=2.9.2 in /usr/local/lib/python3.8/dist-packages (from axelrod) (2022.2.1)\n",
      "Requirement already satisfied: tqdm>=4.39.0 in /usr/local/lib/python3.8/dist-packages (from axelrod) (4.64.1)\n",
      "Requirement already satisfied: fsspec>=0.6.0 in /usr/local/lib/python3.8/dist-packages (from axelrod) (2022.11.0)\n",
      "Requirement already satisfied: packaging>=20.0 in /usr/local/lib/python3.8/dist-packages (from dask>=2.9.2->axelrod) (21.3)\n",
      "Requirement already satisfied: partd>=0.3.10 in /usr/local/lib/python3.8/dist-packages (from dask>=2.9.2->axelrod) (1.3.0)\n",
      "Requirement already satisfied: python-dateutil>=2.1 in /usr/local/lib/python3.8/dist-packages (from matplotlib>=3.0.3->axelrod) (2.8.2)\n",
      "Requirement already satisfied: pyparsing!=2.0.4,!=2.1.2,!=2.1.6,>=2.0.1 in /usr/local/lib/python3.8/dist-packages (from matplotlib>=3.0.3->axelrod) (3.0.9)\n",
      "Requirement already satisfied: cycler>=0.10 in /usr/local/lib/python3.8/dist-packages (from matplotlib>=3.0.3->axelrod) (0.11.0)\n",
      "Requirement already satisfied: kiwisolver>=1.0.1 in /usr/local/lib/python3.8/dist-packages (from matplotlib>=3.0.3->axelrod) (1.4.4)\n",
      "Requirement already satisfied: pytz>=2017.3 in /usr/local/lib/python3.8/dist-packages (from pandas>=1.0.0->axelrod) (2022.7)\n",
      "Requirement already satisfied: wcwidth in /usr/local/lib/python3.8/dist-packages (from prompt-toolkit>=3.0->axelrod) (0.2.5)\n",
      "Requirement already satisfied: locket in /usr/local/lib/python3.8/dist-packages (from partd>=0.3.10->dask>=2.9.2->axelrod) (1.0.0)\n",
      "Requirement already satisfied: six>=1.5 in /usr/local/lib/python3.8/dist-packages (from python-dateutil>=2.1->matplotlib>=3.0.3->axelrod) (1.15.0)\n",
      "Installing collected packages: prompt-toolkit, docutils, axelrod\n",
      "  Attempting uninstall: prompt-toolkit\n",
      "    Found existing installation: prompt-toolkit 2.0.10\n",
      "    Uninstalling prompt-toolkit-2.0.10:\n",
      "      Successfully uninstalled prompt-toolkit-2.0.10\n",
      "  Attempting uninstall: docutils\n",
      "    Found existing installation: docutils 0.17.1\n",
      "    Uninstalling docutils-0.17.1:\n",
      "      Successfully uninstalled docutils-0.17.1\n",
      "\u001b[31mERROR: pip's dependency resolver does not currently take into account all the packages that are installed. This behaviour is the source of the following dependency conflicts.\n",
      "ipython 7.9.0 requires jedi>=0.10, which is not installed.\n",
      "ipython 7.9.0 requires prompt-toolkit<2.1.0,>=2.0.0, but you have prompt-toolkit 3.0.36 which is incompatible.\u001b[0m\u001b[31m\n",
      "\u001b[0mSuccessfully installed axelrod-4.12.0 docutils-0.17 prompt-toolkit-3.0.36\n"
     ]
    }
   ],
   "source": [
    "!pip install nashpy\n",
    "!pip install axelrod\n",
    "\n",
    "import nashpy as nash\n",
    "import numpy as np\n",
    "import axelrod as axl"
   ]
  },
  {
   "cell_type": "markdown",
   "metadata": {
    "id": "eVM0LDlfI5Br"
   },
   "source": [
    "## Two Player-Repeated Games with Axelrod"
   ]
  },
  {
   "cell_type": "markdown",
   "metadata": {
    "id": "4SpMK_Q0lhHX"
   },
   "source": [
    "### Axelrod Tournament\n",
    "\n",
    "This `axelrod` package is named after the [Axelrod tournament](https://cs.stanford.edu/people/eroberts/courses/soco/projects/1998-99/game-theory/axelrod.html), a competition to find optimal strategies for the prisoner's dilemma, held by political science professor Robert Axelrod in 1980.\n",
    "\n",
    "By default, `axelrod` creates a prisoner's dilemma game with predetermined payoffs.\n",
    "\n",
    "Strategies are built-in & available to deploy.\n",
    "\n",
    "Note: in this context, a *match* denotes a game that's played multiple times."
   ]
  },
  {
   "cell_type": "markdown",
   "metadata": {
    "id": "Eh6d_EVrlhHY"
   },
   "source": [
    "### Prisoners Dilemma: Cooperate Or Defect\n",
    "\n",
    "In the prisoners dilemma, each player has 2 potential strategies: *cooperate* `C` or *defect* `D`.\n",
    "\n",
    "As an example, let's take a look at 2 strategies available in the `axelrod` package:\n",
    "\n",
    "* The `Cooperator` strategy will always play `C`, no matter what its opponent plays.\n",
    "\n",
    "\n",
    "* The`Alternator` strategy switches between `C` and `D` each turn during the match."
   ]
  },
  {
   "cell_type": "code",
   "execution_count": 51,
   "metadata": {
    "id": "6d3n0cpJ-53z"
   },
   "outputs": [],
   "source": [
    "def make_tourney_multi(players, num_turns, num_reps):\n",
    "    '''\n",
    "    takes 3 variables:\n",
    "    a list of strategies,\n",
    "    number of turns,\n",
    "    number of repetitions\n",
    "    generates Tournament\n",
    "    gets raw & normalized scores\n",
    "    returns Tournament object and all scores\n",
    "    returns boxplot \n",
    "    returns payoff matrix\n",
    "\n",
    "    '''\n",
    "\n",
    "    tourney = axl.Tournament(players, turns=num_turns, repetitions=num_reps)\n",
    "\n",
    "    tourney = tourney.play()\n",
    "    scores = tourney.scores\n",
    "    normalized = tourney.normalised_scores\n",
    "    rankings = tourney.ranking\n",
    "    ranked_names = tourney.ranked_names\n",
    "\n",
    "    # viz: boxplot\n",
    "    plot = axl.Plot(tourney)\n",
    "    p_1 = plot.boxplot()\n",
    "    p_1.show()\n",
    "\n",
    "    # viz: payoff matrix\n",
    "    p_2 = plot.payoff()\n",
    "    p_2.show()\n",
    "\n",
    "    # print all scores\n",
    "    print('raw test scores: ', '\\n', test_scores, '\\n') \n",
    "    print('normalized test scores: ', '\\n', test_normalized, '\\n')\n",
    "    print('player rankings: ', rankings, '\\n')\n",
    "    print('rankings by name: ', ranked_names)\n",
    "   \n",
    "    return tourney, scores, normalized\n"
   ]
  },
  {
   "cell_type": "markdown",
   "metadata": {},
   "source": [
    "## example\n",
    "\n",
    "sample code for five-player, tournament with 'Defector', 'Grudger', 'Tit For Tat', 'Alternator', & 'Cooperator' strategies: "
   ]
  },
  {
   "cell_type": "code",
   "execution_count": 52,
   "metadata": {
    "colab": {
     "base_uri": "https://localhost:8080/",
     "height": 1000
    },
    "id": "YUD6qZcSlhHd",
    "outputId": "d244fcb3-dd2d-4434-cb81-4fb2f0e39463"
   },
   "outputs": [
    {
     "name": "stderr",
     "output_type": "stream",
     "text": [
      "Playing matches: 100%|██████████| 15/15 [00:00<00:00, 461.98it/s]\n",
      "Analysing: 100%|██████████| 25/25 [00:00<00:00, 170.01it/s]\n"
     ]
    },
    {
     "name": "stdout",
     "output_type": "stream",
     "text": [
      "raw test scores:  \n",
      " [[75, 75, 75, 75, 75], [85, 85, 85, 85, 85], [108, 108, 108, 108, 108], [92, 92, 92, 92, 92], [96, 96, 96, 96, 96]] \n",
      "\n",
      "normalized test scores:  \n",
      " [[1.875, 1.875, 1.875, 1.875, 1.875], [2.125, 2.125, 2.125, 2.125, 2.125], [2.7, 2.7, 2.7, 2.7, 2.7], [2.3, 2.3, 2.3, 2.3, 2.3], [2.4, 2.4, 2.4, 2.4, 2.4]] \n",
      "\n",
      "player rankings:  [2, 4, 3, 1, 0] \n",
      "\n",
      "rankings by name:  ['Defector', 'Grudger', 'Tit For Tat', 'Alternator', 'Cooperator']\n"
     ]
    },
    {
     "data": {
      "image/png": "[encoded data removed]",
      "text/plain": [
       "<Figure size 864x432 with 1 Axes>"
      ]
     },
     "metadata": {
      "needs_background": "light"
     },
     "output_type": "display_data"
    },
    {
     "data": {
      "image/png": "[encoded data removed]",
      "text/plain": [
       "<Figure size 864x864 with 2 Axes>"
      ]
     },
     "metadata": {
      "needs_background": "light"
     },
     "output_type": "display_data"
    }
   ],
   "source": [
    "test_tourney, test_scores, test_normalized = make_tourney_multi([axl.Cooperator(), axl.Alternator(), axl.Defector(),\n",
    "...            axl.TitForTat(), axl.Grudger()], 10, 5)"
   ]
  }
 ],
 "metadata": {
  "colab": {
   "provenance": []
  },
  "kernelspec": {
   "display_name": "Python 3 (ipykernel)",
   "language": "python",
   "name": "python3"
  },
  "language_info": {
   "codemirror_mode": {
    "name": "ipython",
    "version": 3
   },
   "file_extension": ".py",
   "mimetype": "text/x-python",
   "name": "python",
   "nbconvert_exporter": "python",
   "pygments_lexer": "ipython3",
   "version": "3.9.2"
  }
 },
 "nbformat": 4,
 "nbformat_minor": 1
}
